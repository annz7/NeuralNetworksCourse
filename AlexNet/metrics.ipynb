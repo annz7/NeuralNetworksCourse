{
  "cells": [
    {
      "cell_type": "code",
      "execution_count": 1,
      "metadata": {
        "id": "mlrrNkbBleQj"
      },
      "outputs": [],
      "source": [
        "import numpy as np\n",
        "from sklearn.metrics import roc_curve, auc\n",
        "from sklearn.metrics import roc_auc_score\n",
        "from matplotlib import pyplot as plt\n",
        "import pandas as pd"
      ]
    },
    {
      "cell_type": "code",
      "execution_count": 2,
      "metadata": {
        "id": "TofpYeuDleQo",
        "colab": {
          "base_uri": "https://localhost:8080/"
        },
        "outputId": "5b901a95-8c24-41fc-cd2b-7ab7f3ff59d3"
      },
      "outputs": [
        {
          "output_type": "stream",
          "name": "stdout",
          "text": [
            "Drive already mounted at /content/drive; to attempt to forcibly remount, call drive.mount(\"/content/drive\", force_remount=True).\n"
          ]
        }
      ],
      "source": [
        "from google.colab import drive\n",
        "\n",
        "drive.mount('/content/drive')"
      ]
    },
    {
      "cell_type": "code",
      "source": [
        "data_path = '/content/drive/My Drive/3 курс/NN/data/Result.txt'"
      ],
      "metadata": {
        "id": "h6-ynffZO-or"
      },
      "execution_count": 3,
      "outputs": []
    },
    {
      "cell_type": "code",
      "execution_count": 4,
      "metadata": {
        "id": "WKFv_IThleQp"
      },
      "outputs": [],
      "source": [
        "actual = []\n",
        "probability = []\n",
        "expected = []\n",
        "loss = []\n",
        "accuracy = []\n",
        "precision = []\n",
        "recall = []\n",
        "with open(data_path) as fp:\n",
        "    accuracy = fp.readline()\n",
        "    precision = fp.readline().split()\n",
        "    recall = fp.readline().split()\n",
        "    loss = fp.readline().split()\n",
        "    line = fp.readline()\n",
        "    while line:\n",
        "        s = line.split()\n",
        "        expected.append(float(s[0]))\n",
        "        actual.append(float(s[1]))\n",
        "        line = fp.readline()\n",
        "\n",
        "        line = line.replace(',', '.').split()\n",
        "        prob = []\n",
        "        for i in line:\n",
        "            prob.append(float(i))\n",
        "        probability.append(prob)\n",
        "        line = fp.readline()"
      ]
    },
    {
      "cell_type": "code",
      "execution_count": 5,
      "metadata": {
        "id": "tnR6Wx82leQr"
      },
      "outputs": [],
      "source": [
        "df = pd.DataFrame()\n",
        "df['precision'] = precision\n",
        "df['recall'] = recall"
      ]
    },
    {
      "cell_type": "markdown",
      "source": [
        "## Loss History"
      ],
      "metadata": {
        "id": "Bishst36QC9O"
      }
    },
    {
      "cell_type": "code",
      "execution_count": 6,
      "metadata": {
        "id": "GFSiFG0vleQs",
        "outputId": "9e1abe6f-f70a-4df5-85aa-4a7e1ef26c0f",
        "colab": {
          "base_uri": "https://localhost:8080/",
          "height": 282
        }
      },
      "outputs": [
        {
          "output_type": "execute_result",
          "data": {
            "text/plain": [
              "[<matplotlib.lines.Line2D at 0x7f96d3764090>]"
            ]
          },
          "metadata": {},
          "execution_count": 6
        },
        {
          "output_type": "display_data",
          "data": {
            "text/plain": [
              "<Figure size 432x288 with 1 Axes>"
            ],
            "image/png": "[encoded data removed]"
          },
          "metadata": {
            "needs_background": "light"
          }
        }
      ],
      "source": [
        "x = np.arange(1, len(loss) + 1)\n",
        "for i in range(len(loss)):\n",
        "  loss[i] = float(loss[i].replace(\",\", \".\"))\n",
        "plt.plot(x, loss)"
      ]
    },
    {
      "cell_type": "markdown",
      "source": [
        "## Accuracy"
      ],
      "metadata": {
        "id": "AJpX3UVhQKN6"
      }
    },
    {
      "cell_type": "code",
      "execution_count": 8,
      "metadata": {
        "id": "K3jUU2-ileQt",
        "outputId": "56cf77fe-dcd7-4513-d4bf-957acb2d3897",
        "colab": {
          "base_uri": "https://localhost:8080/"
        }
      },
      "outputs": [
        {
          "output_type": "execute_result",
          "data": {
            "text/plain": [
              "0.929619047619048"
            ]
          },
          "metadata": {},
          "execution_count": 8
        }
      ],
      "source": [
        "float(accuracy.replace(\",\", \".\"))"
      ]
    },
    {
      "cell_type": "markdown",
      "source": [
        "## Precision"
      ],
      "metadata": {
        "id": "xDBEUWAdbJTE"
      }
    },
    {
      "cell_type": "code",
      "source": [
        "df['precision']"
      ],
      "metadata": {
        "colab": {
          "base_uri": "https://localhost:8080/"
        },
        "id": "y87_9qqgbSUd",
        "outputId": "00e1b6d2-d746-4fa6-81e6-e183075dd95a"
      },
      "execution_count": 9,
      "outputs": [
        {
          "output_type": "execute_result",
          "data": {
            "text/plain": [
              "0    0,963636363636364\n",
              "1    0,947764312578354\n",
              "2    0,930966469428008\n",
              "3    0,912883998165979\n",
              "4      0,9227761485826\n",
              "5    0,920711974110032\n",
              "6      0,9476490547746\n",
              "7    0,901916058394161\n",
              "8    0,913989125061789\n",
              "9    0,931924882629108\n",
              "Name: precision, dtype: object"
            ]
          },
          "metadata": {},
          "execution_count": 9
        }
      ]
    },
    {
      "cell_type": "markdown",
      "source": [
        "## Recall"
      ],
      "metadata": {
        "id": "zaSstZqibPtO"
      }
    },
    {
      "cell_type": "code",
      "source": [
        "df['recall']"
      ],
      "metadata": {
        "colab": {
          "base_uri": "https://localhost:8080/"
        },
        "id": "4SFTWurubX66",
        "outputId": "6ffc2f80-35e2-4f7e-f5a7-9dbcf93109f1"
      },
      "execution_count": 10,
      "outputs": [
        {
          "output_type": "execute_result",
          "data": {
            "text/plain": [
              "0    0,974358974358974\n",
              "1    0,988666085440279\n",
              "2    0,920975609756098\n",
              "3    0,912883998165979\n",
              "4    0,945891783567134\n",
              "5    0,924702058504875\n",
              "6    0,970705064548163\n",
              "7     0,95924308588064\n",
              "8    0,867667761614266\n",
              "9    0,841101694915254\n",
              "Name: recall, dtype: object"
            ]
          },
          "metadata": {},
          "execution_count": 10
        }
      ]
    },
    {
      "cell_type": "markdown",
      "source": [
        "## ROC кривые"
      ],
      "metadata": {
        "id": "jOT8PHPbzBdq"
      }
    },
    {
      "cell_type": "code",
      "source": [
        "probability = np.array(probability)"
      ],
      "metadata": {
        "id": "EmhOuYvbB_HT"
      },
      "execution_count": 11,
      "outputs": []
    },
    {
      "cell_type": "code",
      "source": [
        "plt.figure(figsize=(20, 8))\n",
        "for k in range(10):\n",
        "    y = []\n",
        "    prob = []\n",
        "    for i in range(len(actual)):\n",
        "        if actual[i] == k:\n",
        "            y.append(1)\n",
        "        else:\n",
        "            y.append(0)\n",
        "        prob = probability[:, k]\n",
        "    fpr, tpr, treshold = roc_curve(y, prob)\n",
        "    roc_auc = auc(fpr, tpr)\n",
        "\n",
        "    plt.plot(fpr, tpr, label = f'{k}')\n",
        "    plt.plot([0, 1], [0, 1], color='navy', linestyle='--')\n",
        "    plt.xlim([0.0, 1.0])\n",
        "    plt.ylim([0.0, 1.05])\n",
        "    plt.xlabel('False Positive Rate')\n",
        "    plt.ylabel('True Positive Rate')\n",
        "    plt.legend()"
      ],
      "metadata": {
        "colab": {
          "base_uri": "https://localhost:8080/",
          "height": 497
        },
        "id": "Io_kRjoG0L2x",
        "outputId": "ddfbcc55-2471-45ec-bb48-c00c2c4e32a0"
      },
      "execution_count": 16,
      "outputs": [
        {
          "output_type": "display_data",
          "data": {
            "text/plain": [
              "<Figure size 1440x576 with 1 Axes>"
            ],
            "image/png": "[encoded data removed]"
          },
          "metadata": {
            "needs_background": "light"
          }
        }
      ]
    },
    {
      "cell_type": "code",
      "source": [
        ""
      ],
      "metadata": {
        "id": "n76EgOX259qd"
      },
      "execution_count": null,
      "outputs": []
    }
  ],
  "metadata": {
    "interpreter": {
      "hash": "5710370f38f4e1ef9201e602cbf9dddd7aa49e9ac4980d7beab3fe1e0ead807e"
    },
    "kernelspec": {
      "display_name": "Python 3.9.0 ('venv': venv)",
      "language": "python",
      "name": "python3"
    },
    "language_info": {
      "codemirror_mode": {
        "name": "ipython",
        "version": 3
      },
      "file_extension": ".py",
      "mimetype": "text/x-python",
      "name": "python",
      "nbconvert_exporter": "python",
      "pygments_lexer": "ipython3",
      "version": "3.9.0"
    },
    "orig_nbformat": 4,
    "colab": {
      "name": "metrics.ipynb",
      "provenance": []
    }
  },
  "nbformat": 4,
  "nbformat_minor": 0
}