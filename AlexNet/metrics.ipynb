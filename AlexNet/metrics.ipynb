{
  "cells": [
    {
      "cell_type": "code",
      "execution_count": 1,
      "metadata": {
        "id": "mlrrNkbBleQj"
      },
      "outputs": [],
      "source": [
        "import numpy as np\n",
        "from sklearn.metrics import roc_curve\n",
        "from sklearn.metrics import roc_auc_score\n",
        "from matplotlib import pyplot\n",
        "import pandas as pd"
      ]
    },
    {
      "cell_type": "code",
      "execution_count": 2,
      "metadata": {
        "id": "TofpYeuDleQo",
        "colab": {
          "base_uri": "https://localhost:8080/"
        },
        "outputId": "70bc9ad3-62c3-487b-928d-786e211cfd03"
      },
      "outputs": [
        {
          "output_type": "stream",
          "name": "stdout",
          "text": [
            "Drive already mounted at /content/drive; to attempt to forcibly remount, call drive.mount(\"/content/drive\", force_remount=True).\n"
          ]
        }
      ],
      "source": [
        "from google.colab import drive\n",
        "\n",
        "drive.mount('/content/drive')"
      ]
    },
    {
      "cell_type": "code",
      "source": [
        "data_path = '/content/drive/My Drive/3 курс/NN/data/Result.txt'"
      ],
      "metadata": {
        "id": "h6-ynffZO-or"
      },
      "execution_count": 3,
      "outputs": []
    },
    {
      "cell_type": "code",
      "execution_count": 4,
      "metadata": {
        "id": "WKFv_IThleQp"
      },
      "outputs": [],
      "source": [
        "actual = []\n",
        "probability = []\n",
        "expected = []\n",
        "loss = []\n",
        "accuracy = []\n",
        "precision = []\n",
        "recall = []\n",
        "with open(data_path) as fp:\n",
        "    accuracy = fp.readline()\n",
        "    precision = fp.readline().split()\n",
        "    recall = fp.readline().split()\n",
        "    loss = fp.readline().split()\n",
        "    line = fp.readline()\n",
        "    while line:\n",
        "        s = line.split()\n",
        "        expected.append(float(s[0]))\n",
        "        probability.append(float(s[1].replace(\",\", \".\")))\n",
        "        actual.append(float(s[2]))\n",
        "        line = fp.readline()"
      ]
    },
    {
      "cell_type": "code",
      "execution_count": 5,
      "metadata": {
        "id": "tnR6Wx82leQr"
      },
      "outputs": [],
      "source": [
        "df = pd.DataFrame()\n",
        "df['precision'] = precision\n",
        "df['recall'] = recall"
      ]
    },
    {
      "cell_type": "markdown",
      "source": [
        "## Loss History"
      ],
      "metadata": {
        "id": "Bishst36QC9O"
      }
    },
    {
      "cell_type": "code",
      "execution_count": 6,
      "metadata": {
        "id": "GFSiFG0vleQs",
        "outputId": "b2140af0-7906-49a8-df5f-85ea73975264",
        "colab": {
          "base_uri": "https://localhost:8080/",
          "height": 282
        }
      },
      "outputs": [
        {
          "output_type": "execute_result",
          "data": {
            "text/plain": [
              "[<matplotlib.lines.Line2D at 0x7f6cae657050>]"
            ]
          },
          "metadata": {},
          "execution_count": 6
        },
        {
          "output_type": "display_data",
          "data": {
            "text/plain": [
              "<Figure size 432x288 with 1 Axes>"
            ],
            "image/png": "[encoded data removed]"
          },
          "metadata": {
            "needs_background": "light"
          }
        }
      ],
      "source": [
        "x = np.arange(1, len(loss) + 1)\n",
        "for i in range(len(loss)):\n",
        "  loss[i] = float(loss[i].replace(\",\", \".\"))\n",
        "pyplot.plot(x, loss)"
      ]
    },
    {
      "cell_type": "markdown",
      "source": [
        "## Accuracy"
      ],
      "metadata": {
        "id": "AJpX3UVhQKN6"
      }
    },
    {
      "cell_type": "code",
      "execution_count": 7,
      "metadata": {
        "id": "K3jUU2-ileQt",
        "outputId": "58254a97-0f59-49cb-a9ff-9a5d67785e7f",
        "colab": {
          "base_uri": "https://localhost:8080/"
        }
      },
      "outputs": [
        {
          "output_type": "execute_result",
          "data": {
            "text/plain": [
              "0.918761904761905"
            ]
          },
          "metadata": {},
          "execution_count": 7
        }
      ],
      "source": [
        "float(accuracy.replace(\",\", \".\"))"
      ]
    },
    {
      "cell_type": "markdown",
      "source": [
        "## Precision"
      ],
      "metadata": {
        "id": "xDBEUWAdbJTE"
      }
    },
    {
      "cell_type": "code",
      "source": [
        "df['precision']"
      ],
      "metadata": {
        "colab": {
          "base_uri": "https://localhost:8080/"
        },
        "id": "y87_9qqgbSUd",
        "outputId": "575cf998-daa8-48ea-f35f-3d4681834d05"
      },
      "execution_count": 8,
      "outputs": [
        {
          "output_type": "execute_result",
          "data": {
            "text/plain": [
              "0    0,955980861244019\n",
              "1    0,947764312578354\n",
              "2    0,893984220907298\n",
              "3    0,878954607977992\n",
              "4     0,93108504398827\n",
              "5    0,930960086299892\n",
              "6    0,963645176926806\n",
              "7     0,89735401459854\n",
              "8    0,940682155215027\n",
              "9    0,849295774647887\n",
              "Name: precision, dtype: object"
            ]
          },
          "metadata": {},
          "execution_count": 8
        }
      ]
    },
    {
      "cell_type": "markdown",
      "source": [
        "## Recall"
      ],
      "metadata": {
        "id": "zaSstZqibPtO"
      }
    },
    {
      "cell_type": "code",
      "source": [
        "df['recall']"
      ],
      "metadata": {
        "colab": {
          "base_uri": "https://localhost:8080/"
        },
        "id": "4SFTWurubX66",
        "outputId": "ca219659-dd63-4e73-d91a-79c9a9509a99"
      },
      "execution_count": 9,
      "outputs": [
        {
          "output_type": "execute_result",
          "data": {
            "text/plain": [
              "0     0,95324427480916\n",
              "1    0,981393336218087\n",
              "2    0,957739038563127\n",
              "3    0,945266272189349\n",
              "4    0,886871508379888\n",
              "5    0,936008676789588\n",
              "6    0,957610789980732\n",
              "7    0,924342105263158\n",
              "8    0,784095591264936\n",
              "9    0,882869692532943\n",
              "Name: recall, dtype: object"
            ]
          },
          "metadata": {},
          "execution_count": 9
        }
      ]
    },
    {
      "cell_type": "code",
      "source": [
        ""
      ],
      "metadata": {
        "id": "dL_qgEVPujto"
      },
      "execution_count": null,
      "outputs": []
    }
  ],
  "metadata": {
    "interpreter": {
      "hash": "5710370f38f4e1ef9201e602cbf9dddd7aa49e9ac4980d7beab3fe1e0ead807e"
    },
    "kernelspec": {
      "display_name": "Python 3.9.0 ('venv': venv)",
      "language": "python",
      "name": "python3"
    },
    "language_info": {
      "codemirror_mode": {
        "name": "ipython",
        "version": 3
      },
      "file_extension": ".py",
      "mimetype": "text/x-python",
      "name": "python",
      "nbconvert_exporter": "python",
      "pygments_lexer": "ipython3",
      "version": "3.9.0"
    },
    "orig_nbformat": 4,
    "colab": {
      "name": "visualize.ipynb",
      "provenance": []
    }
  },
  "nbformat": 4,
  "nbformat_minor": 0
}